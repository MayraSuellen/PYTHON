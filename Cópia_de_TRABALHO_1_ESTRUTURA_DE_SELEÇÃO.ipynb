{
  "nbformat": 4,
  "nbformat_minor": 0,
  "metadata": {
    "colab": {
      "provenance": [],
      "include_colab_link": true
    },
    "kernelspec": {
      "name": "python3",
      "display_name": "Python 3"
    }
  },
  "cells": [
    {
      "cell_type": "markdown",
      "metadata": {
        "id": "view-in-github",
        "colab_type": "text"
      },
      "source": [
        "<a href=\"https://colab.research.google.com/github/MayraSuellen/PYTHON/blob/main/C%C3%B3pia_de_TRABALHO_1_ESTRUTURA_DE_SELE%C3%87%C3%83O.ipynb\" target=\"_parent\"><img src=\"https://colab.research.google.com/assets/colab-badge.svg\" alt=\"Open In Colab\"/></a>"
      ]
    },
    {
      "cell_type": "markdown",
      "metadata": {
        "id": "G90zxY79qIXe"
      },
      "source": [
        "\n",
        "<html>\n",
        "  <body>\n",
        "    <header></header>\n",
        "        <CENTER>\n",
        "          <img src=\"https://uvv.br/wp-content/themes/core/dist/images/Logo.png\" alt=\"UVV-LOGO\" style = width=\"100px\"; height=\"100px\">\n",
        "        </CENTER>\n",
        "        <CENTER><b>LABORATÓRIO DE PROGRAMAÇAO</b></CENTER>\n",
        "        <CENTER><b>ESTRUTURA DE SELEÇÃO</b></CENTER>"
      ]
    },
    {
      "cell_type": "markdown",
      "source": [
        "NOME: MAYRA SUELLEN OLIVEIRA REIS"
      ],
      "metadata": {
        "id": "cTWjy-UMSZKR"
      }
    },
    {
      "cell_type": "markdown",
      "source": [
        "MEU LINK COLAB: [Link]()"
      ],
      "metadata": {
        "id": "VGKo5hTSCMcA"
      }
    },
    {
      "cell_type": "markdown",
      "source": [
        "Lista de exercícios: Fazer do 1 ao 17:  [Clique Aqui!](https://drive.google.com/file/d/1Q8Hg9rEfAQTDogfcyNHS91SjexqJrmfF/view?usp=sharing)"
      ],
      "metadata": {
        "id": "kvoyr5V8mk7f"
      }
    },
    {
      "cell_type": "markdown",
      "metadata": {
        "id": "CWZ7nYLvZjR8"
      },
      "source": [
        "# EXERCÍCIO NÚMERO 1:"
      ]
    },
    {
      "cell_type": "code",
      "source": [
        "#EXERCICIO A:\n",
        "import math\n",
        "try:\n",
        "  B = float(input('Informe o valor de B: '))\n",
        "  C = float(input('Informe o valor de C: '))\n",
        "\n",
        "  A = math.sqrt(B**2 + C**2)\n",
        "\n",
        "  print(f\"A hipotenusa do triângulo é: {A:.2f}\")\n",
        "except Exception as ERRO_EXCECAO:\n",
        "  print(f'ERRO DE EXCEÇÃO: {ERRO_EXCECAO}')\n",
        "\n",
        "#EXERCICIO B:\n",
        "try:\n",
        "  L = float(input('Informe o tamanho do lado do quadrado (em metros):'))\n",
        "\n",
        "  area = L**2\n",
        "\n",
        "  print(f'A área do quadrado é: ')\n",
        "except Exception as ERRO_EXCECAO:\n",
        "  print(f'ERRO DE EXCEÇÃO: {ERRO_EXCECAO}')\n",
        "#EXERCICIO C:\n",
        "try:\n",
        "   L = float(input('Informe o lado do retângulo: '))\n",
        "   H = float(input('Informe o a altura do retângulo: '))\n",
        "\n",
        "   area = L*H\n",
        "\n",
        "   print(f'A área do retângulo é: {area:.2f}')\n",
        "except Exception as ERRO_EXCECAO:\n",
        "  print(f'ERRO DE EXCEÇÃO: {ERRO_EXCECAO}')\n",
        "\n",
        "#EXERCICIO D:\n",
        "import math\n",
        "try:\n",
        "   R = float(input('Informe o comprimento do raio(R): '))\n",
        "   area = math.pi* R**2\n",
        "   comprimento= 2* math.pi* R\n",
        "\n",
        "   print(f'A área do circulo é: {area: .2f}')\n",
        "   print(f'A comprimento do circulo é: {comprimento: .2f}')\n",
        "except Exception as ERRO_EXCECAO:\n",
        "  print(f'ERRO DE EXCEÇÃO: {ERRO_EXCECAO}')\n",
        "\n",
        "#EXERCICIO E:\n",
        "try:\n",
        "  H = float (input('Informe sua altura em metros:'))\n",
        "  M = float (input('Informe seu peso em quilogramas:'))\n",
        "\n",
        "  IMC = M/H**2\n",
        "\n",
        "  print(f'Seu índice de massa corpórea é: {IMC: .2f}')\n",
        "except Exception as ERRO_EXCECAO:\n",
        "  print(f'ERRO DE EXCEÇÃO: {ERRO_EXCECAO}')\n",
        "\n",
        "#EXERCICIO F:\n",
        "import math\n",
        "try:\n",
        "  R = float (input('Informe o raio em metros:'))\n",
        "\n",
        "  VE= 4/3 *  math.pi * R**3\n",
        "  VL= VE* 1000\n",
        "  print(f'O volume em litros da esfera é aproximadamente: {VE: .2f}')\n",
        "except Exception as ERRO_EXCECAO:\n",
        "  print(f'ERRO DE EXCEÇÃO: {ERRO_EXCECAO}')\n",
        "\n",
        "#EXERCICIO G:\n",
        "try:\n",
        "  GPH = float(input('Quanto você ganha por hora?:'))\n",
        "  NDH = float(input('Quantas horas você trabalha por mês?:'))\n",
        "  IR = 11/100\n",
        "  INSS = 8/100\n",
        "  SIND = 5/100\n",
        "\n",
        "  SB = GPH*NDH\n",
        "  DIR = SB*IR\n",
        "  DINSS= SB*INSS\n",
        "  DSIND= SB* SIND\n",
        "  SL = SB - (DIR+DINSS+DSIND)\n",
        "\n",
        "  print(f'O seu salário bruto é: {SB: .2f}')\n",
        "  print(f'Você pagou {DINSS: .2f} ao INNS')\n",
        "  print(f'Você pagou {DSIND: .2f} ao sindicato')\n",
        "  print(f'O seu salário líquido é: {SL: .2f}')\n",
        "except Exception as ERRO_EXCECAO:\n",
        "  print(f'ERRO DE EXCEÇÃO: {ERRO_EXCECAO}')\n",
        "\n",
        "#EXERCICIO H:\n",
        "import math\n",
        "try:\n",
        "\n",
        "  R = float (input('Informe o raio:'))\n",
        "  H = float (input('Informe a altura em metros:'))\n",
        "\n",
        "  AL= 2* math.pi*R*H\n",
        "  AB= math.pi * R**2\n",
        "  AT= AL + 2 * AB\n",
        "  QT= AT/3\n",
        "  NL= math.ceil (QT/5)\n",
        "  CT= NL * 50\n",
        "\n",
        "  print(f\"Quantidade de tinta em lata: {NL}\")\n",
        "  print(f\"Custo total: R$ {CT:.2f}\")\n",
        "except Exception as ERRO_EXCECAO:\n",
        "  print(f'ERRO DE EXCEÇÃO: {ERRO_EXCECAO}')\n",
        "\n",
        "#EXERCICIO I:\n",
        "import math\n",
        "try:\n",
        "\n",
        "  PX1 = float(input('Informe a coordenada x1 do ponto P: '))\n",
        "  PY1 = float(input('Informe a coordenada y1 do ponto P: '))\n",
        "  QX2 = float(input('Informe a coordenada x2 do ponto Q: '))\n",
        "  QY2 = float(input('Informe a coordenada y2 do ponto Q: '))\n",
        "\n",
        "  D = math.sqrt ((QX2-PX1)**2 + (QY2-PY1)**2)\n",
        "  print(f'A distância entre os dois são: {D:.2f}')\n",
        "except Exception as ERRO_EXCECAO:\n",
        "  print(f'ERRO DE EXCEÇÃO: {ERRO_EXCECAO}')\n",
        "\n",
        "#EXERCICIO J:\n",
        "try:\n",
        "\n",
        "  Raio = int(input('Informar o raio (em metros):'))\n",
        "  Altura = int(input('Informar a altura da caixa (em metros):'))\n",
        "\n",
        "  VL = math.pi * Raio** 2 * Altura * 1000\n",
        "  TA = round(VL / 1350)\n",
        "\n",
        "  print(f'O tempo de altonomia é: {TA}')\n",
        "except Exception as ERRO_EXCECAO:\n",
        "  print(f'ERRO DE EXCEÇÃO: {ERRO_EXCECAO}')\n",
        "\n",
        "#EXERCICIO K:\n",
        "try:\n",
        "  TA = float(input('Informe o tamanho do arquivo para download (em Megabytes): '))\n",
        "  VL = float(input('Informe a velocidade do link de Internet (em Megabytes/segundo): '))\n",
        "\n",
        "\n",
        "  TS = TA / VL\n",
        "\n",
        "\n",
        "  M = int(TS // 60)\n",
        "  S = int(TS % 60)\n",
        "\n",
        "\n",
        "  print(f'O tempo aproximado de download é: {M} minutos e {S} segundos.')\n",
        "except Exception as ERRO_EXCECAO:\n",
        "  print(f'ERRO DE EXCEÇÃO: {ERRO_EXCECAO}')\n",
        "\n",
        "#EXERCICIO L:\n",
        "try:\n",
        "  L = float(input('Informe o comprimento do lado do tanque cúbico (em metros): '))\n",
        "  H = float(input('Informe a altura do preenchimento do tanque (em metros): '))\n",
        "\n",
        "  V = L**2 * H\n",
        "  VL = V * 1000\n",
        "  D = VL * 10\n",
        "\n",
        "  print(f'A distância máxima que o carro pode percorrer é: {D:.2f} km')\n",
        "except Exception as ERRO_EXCECAO:\n",
        "  print(f'ERRO DE EXCEÇÃO: {ERRO_EXCECAO}')\n",
        "\n",
        "\n",
        "#EXERCICIO 01\n",
        "import math\n",
        "try:\n",
        "  R = float(input(\"Informe o raio da esfera: \"))\n",
        "\n",
        "  area = 4 * math.pi * R**2\n",
        "  volume = (4/3) * math.pi * R**3\n",
        "\n",
        "  print(f\"A área da esfera é: {area:.2f} unidades quadradas\")\n",
        "  print(f\"O volume da esfera é: {volume:.2f} unidades cúbicas\")\n",
        "except Exception as ERRO_EXCECAO:\n",
        "  print(f'ERRO DE EXCEÇÃO: {ERRO_EXCECAO}')"
      ],
      "metadata": {
        "id": "aphElrP0V9-T"
      },
      "execution_count": null,
      "outputs": []
    },
    {
      "cell_type": "markdown",
      "metadata": {
        "id": "stTvYgS0Z1_e"
      },
      "source": [
        "# EXERCÍCIO NÚMERO 2:"
      ]
    },
    {
      "cell_type": "code",
      "metadata": {
        "id": "I0jBku9KZ0sk"
      },
      "source": [
        "try:\n",
        "  B = float(input(\"Informe a base do retângulo (em cm): \"))\n",
        "  H = float(input(\"Informe a altura do retângulo (em cm): \"))\n",
        "\n",
        "  P = 2 * (B + H)\n",
        "\n",
        "  PP = P / 2.54\n",
        "  PJ = P / 91.44\n",
        "\n",
        "  print(f\"Perímetro em centímetros: {P} cm\")\n",
        "  print(f\"Perímetro em polegadas: {PP:.2f} polegadas\")\n",
        "  print(f\"Perímetro em jardas: {PJ:.2f} jardas\")\n",
        "except Exception as ERRO_EXCECAO:\n",
        "  print(f'ERRO DE EXCEÇÃO: {ERRO_EXCECAO}')"
      ],
      "execution_count": null,
      "outputs": []
    },
    {
      "cell_type": "markdown",
      "source": [
        "# EXERCÍCIO NÚMERO 3:"
      ],
      "metadata": {
        "id": "nNqn6-b_qVIM"
      }
    },
    {
      "cell_type": "code",
      "source": [
        "\n",
        "try:\n",
        "  TS = int(input(\"Informe o tempo em segundos: \"))\n",
        "\n",
        "  H = TS // 3600\n",
        "  TS -= H * 3600\n",
        "\n",
        "  M = TS // 60\n",
        "  TS -= M * 60\n",
        "  S = TS\n",
        "\n",
        "  print(f\"Tempo de permanência: {H} Hora(s), {M} Minuto(s) e {S} Segundo(s)\")\n",
        "except Exception as ERRO_EXCECAO:\n",
        "  print(f'ERRO DE EXCEÇÃO: {ERRO_EXCECAO}')\n",
        "\n",
        "# TS = Tempo em segundo\n",
        "# H = horas\n",
        "# M = minutos\n",
        "# S = segundos"
      ],
      "metadata": {
        "id": "cjbQZS4JqVTS",
        "colab": {
          "base_uri": "https://localhost:8080/"
        },
        "outputId": "2b49b489-96ed-4435-8047-74816745b5fd"
      },
      "execution_count": null,
      "outputs": [
        {
          "output_type": "stream",
          "name": "stdout",
          "text": [
            "Informe o tempo em segundos: 40\n",
            "Tempo de permanência: 0 Hora(s), 0 Minuto(s) e 40 Segundo(s)\n"
          ]
        }
      ]
    },
    {
      "cell_type": "markdown",
      "source": [
        "# EXERCÍCIO NÚMERO 4:"
      ],
      "metadata": {
        "id": "z67ZmLgrqVeV"
      }
    },
    {
      "cell_type": "code",
      "source": [
        "try:\n",
        "  H = float(input(\"Informe a altura da pessoa (em metros): \"))\n",
        "  S = input(\"Informe o sexo da pessoa (M/F): \")\n",
        "\n",
        "  if S == 'M':\n",
        "      PI = (72.7 * H) - 58\n",
        "  elif S == 'F':\n",
        "      PI = (62.1 * H) - 44.7\n",
        "  else:\n",
        "      print(\"Sexo inválido!\")\n",
        "\n",
        "  print(f\"O peso ideal é: {PI:.2f} kg\")\n",
        "except Exception as ERRO_EXCECAO:\n",
        "  print(f'ERRO DE EXCEÇÃO: {ERRO_EXCECAO}')"
      ],
      "metadata": {
        "id": "LUAhs9H6qVpx",
        "colab": {
          "base_uri": "https://localhost:8080/"
        },
        "outputId": "c9aef246-4b12-4ae8-e9d1-406d5b288cc1"
      },
      "execution_count": null,
      "outputs": [
        {
          "output_type": "stream",
          "name": "stdout",
          "text": [
            "Informe a altura da pessoa (em metros): 1.70\n",
            "Informe o sexo da pessoa (M/F): F\n",
            "O peso ideal é: 60.87 kg\n"
          ]
        }
      ]
    },
    {
      "cell_type": "markdown",
      "source": [
        "# EXERCÍCIO NÚMERO 5:"
      ],
      "metadata": {
        "id": "cyyo_tyuqV1w"
      }
    },
    {
      "cell_type": "code",
      "source": [
        "try:\n",
        "  I = float(input(\"Informe o valor do ingresso (R$): \"))\n",
        "  C = int(input(\"Informe o número de crianças (abaixo de 10 anos): \"))\n",
        "  J = int(input(\"Informe o número de jovens (11 a 17 anos): \"))\n",
        "  A = int(input(\"Informe o número de adultos (acima de 18 anos): \"))\n",
        "  ALI = int(input(\"Informe quantos adultos doaram 1 kg de alimento: \"))\n",
        "\n",
        "  TE = (J * I / 2) + (A - ALI) * I + ALI * I / 2\n",
        "\n",
        "  print(f\"O público total foi de {C + J + A} pessoas\")\n",
        "  print(f\"A arrecadação foi de R$ {TE:.2f}\")\n",
        "except Exception as ERRO_EXCECAO:\n",
        "  print(f'ERRO DE EXCEÇÃO: {ERRO_EXCECAO}')"
      ],
      "metadata": {
        "id": "EomGpGh-qWAK"
      },
      "execution_count": null,
      "outputs": []
    },
    {
      "cell_type": "markdown",
      "source": [
        "# EXERCÍCIO NÚMERO 6:"
      ],
      "metadata": {
        "id": "GtlpSfKwqWJs"
      }
    },
    {
      "cell_type": "code",
      "source": [
        "try:\n",
        "  N = int(input(\"Informe um número positivo: \"))\n",
        "\n",
        "  Q = N**2\n",
        "\n",
        "  if Q % 2 != 0 and Q % 11 == 0:\n",
        "      print(f\"O quadrado de {N} é {Q} e é ímpar e múltiplo de 11\")\n",
        "  else:\n",
        "      print(f\"O quadrado de {N} é {Q}\")\n",
        "except Exception as ERRO_EXCECAO:\n",
        "  print(f'ERRO DE EXCEÇÃO: {ERRO_EXCECAO}')"
      ],
      "metadata": {
        "id": "IYHqVwfcqWSl"
      },
      "execution_count": null,
      "outputs": []
    },
    {
      "cell_type": "markdown",
      "source": [
        "# EXERCÍCIO NÚMERO 7:"
      ],
      "metadata": {
        "id": "0Sj4dalPqWcj"
      }
    },
    {
      "cell_type": "code",
      "source": [
        "try:\n",
        "  P = float(input(\"Informe o preço da mercadoria: R$ \"))\n",
        "  O= input(\"Escolha a opção (Acréscimo ou Desconto): \")\n",
        "\n",
        "  if O == 'acréscimo':\n",
        "      PR = P * 1.03\n",
        "  elif O == 'desconto':\n",
        "      PR = P * 0.97\n",
        "  else:\n",
        "      print(\"Opção inválida!\")\n",
        "\n",
        "  print(f\"O preço reajustado é: R$ {PR:.2f}\")\n",
        "except Exception as ERRO_EXCECAO:\n",
        "  print(f'ERRO DE EXCEÇÃO: {ERRO_EXCECAO}')"
      ],
      "metadata": {
        "id": "f7jjM22BqWnx",
        "colab": {
          "base_uri": "https://localhost:8080/"
        },
        "outputId": "b82bfe22-bcf1-48fc-8663-7daa57290f4d"
      },
      "execution_count": null,
      "outputs": [
        {
          "output_type": "stream",
          "name": "stdout",
          "text": [
            "Informe o preço da mercadoria: R$ 10\n",
            "Escolha a opção (Acréscimo ou Desconto): desconto\n",
            "O preço reajustado é: R$ 9.70\n"
          ]
        }
      ]
    },
    {
      "cell_type": "markdown",
      "source": [
        "# EXERCÍCIO NÚMERO 8:"
      ],
      "metadata": {
        "id": "_H4byYLxqW6O"
      }
    },
    {
      "cell_type": "code",
      "source": [
        "try:\n",
        "  E = input(\"Informe a escala de entrada (Celsius ou Fahrenheit): \")\n",
        "  V = float(input(\"Informe o valor da temperatura: \"))\n",
        "\n",
        "  if E == 'celsius':\n",
        "      F = (V * 9/5) + 32\n",
        "      print(f\"A temperatura em Fahrenheit é: {F:.2f} °F\")\n",
        "  elif E == 'fahrenheit':\n",
        "      C = (V - 32) * 5/9\n",
        "      print(f\"A temperatura em Celsius é: {C:.2f} °C\")\n",
        "  else:\n",
        "      print(\"Escala inválida!\")\n",
        "except Exception as ERRO_EXCECAO:\n",
        "  print(f'ERRO DE EXCEÇÃO: {ERRO_EXCECAO}')"
      ],
      "metadata": {
        "id": "SiTXkieqqXGe"
      },
      "execution_count": null,
      "outputs": []
    },
    {
      "cell_type": "markdown",
      "source": [],
      "metadata": {
        "id": "YtibVz5YF90g"
      }
    },
    {
      "cell_type": "markdown",
      "source": [
        "# EXERCÍCIO NÚMERO 9:"
      ],
      "metadata": {
        "id": "nZnWODxGqXWV"
      }
    },
    {
      "cell_type": "code",
      "source": [
        "try:\n",
        "  CD = 4.08\n",
        "  CL = 5.07\n",
        "\n",
        "  Q = float(input(\"Informe o valor a ser convertido: R$ \"))\n",
        "  M = input(\"Informe a moeda de destino (Dólar ou Libra): \")\n",
        "\n",
        "  if M == 'dólar':\n",
        "      C = Q / CD\n",
        "      print(f\"R$ = {C:.2f} US$\")\n",
        "  elif M == 'libra':\n",
        "      C = Q / CL\n",
        "      print(f\"R$ = {C:.2f} £\")\n",
        "  else:\n",
        "      print(\"Moeda inválida!\")\n",
        "except Exception as ERRO_EXCECAO:\n",
        "  print(f'ERRO DE EXCEÇÃO: {ERRO_EXCECAO}')"
      ],
      "metadata": {
        "id": "NzBvdHX4qXgg",
        "colab": {
          "base_uri": "https://localhost:8080/"
        },
        "outputId": "832a5d09-e171-4b10-a86b-60b876468f98"
      },
      "execution_count": null,
      "outputs": [
        {
          "output_type": "stream",
          "name": "stdout",
          "text": [
            "Informe o valor a ser convertido: R$ 1\n",
            "Informe a moeda de destino (Dólar ou Libra): dólar\n",
            "1.0 R$ = 0.25 US$\n"
          ]
        }
      ]
    },
    {
      "cell_type": "markdown",
      "source": [
        "# EXERCÍCIO NÚMERO 10:"
      ],
      "metadata": {
        "id": "Jiv-3S1pqXsP"
      }
    },
    {
      "cell_type": "code",
      "source": [
        "try:\n",
        "  CO = 35.274\n",
        "  CT = 0.001\n",
        "\n",
        "  Q = float(input(\"Informe a massa em quilos: \"))\n",
        "  U = input(\"Informe a unidade de destino (Onça, Tonelada): \")\n",
        "\n",
        "  if U == 'onça':\n",
        "    C = Q * CO\n",
        "    print(f\"kg = {C:.2f} oz\")\n",
        "  elif U == 'tonelada':\n",
        "    C = Q * CT\n",
        "    print(f\"kg = {C:.2f} toneladas\")\n",
        "  else:\n",
        "    print(\"Unidade inválida!\")\n",
        "except Exception as ERRO_EXCECAO:\n",
        "  print(f'ERRO DE EXCEÇÃO: {ERRO_EXCECAO}')"
      ],
      "metadata": {
        "id": "rFefSIbLqX4N"
      },
      "execution_count": null,
      "outputs": []
    },
    {
      "cell_type": "markdown",
      "source": [
        "# EXERCÍCIO NÚMERO 11:"
      ],
      "metadata": {
        "id": "kMPNNvWRqYKK"
      }
    },
    {
      "cell_type": "code",
      "source": [
        "import math\n",
        "try:\n",
        "  HE = int(input(\"Digite a hora de entrada (HH): \"))\n",
        "  ME = int(input(\"Digite os minutos de entrada (MM): \"))\n",
        "  HS = int(input(\"Digite a hora de saída (HH): \"))\n",
        "  MS = int(input(\"Digite os minutos de saída (MM): \"))\n",
        "  V30 = float(input(\"Digite o valor pago a cada 30 minutos (R$): \"))\n",
        "\n",
        "  TE = HE * 60 + ME\n",
        "  TS = HS * 60 + MS\n",
        "\n",
        "  TP = TS - TE\n",
        "\n",
        "  if TP <= 30:\n",
        "   print('Saída gratuita, MUITO OBRIGADO, E VOLTE SEMPRE')\n",
        "\n",
        "  elif TP > 1440:\n",
        "   print(\"Tempo de permanência superior a 24 horas! Não é permitido.\")\n",
        "\n",
        "  else:\n",
        "   BL = math.ceil(TP / 30)\n",
        "   TPAGAR = BL * V30\n",
        "   print(f\"Tempo de permanência: {TP} minutos\")\n",
        "   print(f\"Total a pagar: R$ {TPAGAR:.2f}\")\n",
        "except Exception as ERRO_EXCECAO:\n",
        "  print(f'ERRO DE EXCEÇÃO: {ERRO_EXCECAO}')\n"
      ],
      "metadata": {
        "id": "AqTFzfgmqYZC"
      },
      "execution_count": null,
      "outputs": []
    },
    {
      "cell_type": "code",
      "source": [
        "# TESTE\n",
        "import math\n",
        "try:\n",
        "  HE = int(input(\"Digite a hora de entrada (HH): \"))\n",
        "  ME = int(input(\"Digite os minutos de entrada (MM): \"))\n",
        "  HS = int(input(\"Digite a hora de saída (HH): \"))\n",
        "  MS = int(input(\"Digite os minutos de saída (MM): \"))\n",
        "  V30 = float(input(\"Digite o valor pago a cada 30 minutos (R$): \"))\n",
        "\n",
        "  TE = HE * 60 + ME\n",
        "  TS = HS * 60 + MS\n",
        "\n",
        "  TP = TS - TE\n",
        "\n",
        "  if TP <= 30:\n",
        "   print('Saída gratuita, MUITO OBRIGADO, E VOLTE SEMPRE')\n",
        "\n",
        "  elif TP > 1440:\n",
        "   print(\"Tempo de permanência superior a 24 horas! Não é permitido.\")\n",
        "\n",
        "  else:\n",
        "    BL = math.ceil(TP / 30)\n",
        "    TPAGAR = BL * V30\n",
        "    TIMEPAY = BL * 30\n",
        "    TR = TIMEPAY - TP\n",
        "    print(f\"Tempo de permanência: {TP} minutos\")\n",
        "    print(f\"Total a pagar: R$ {TPAGAR:.2f}\")\n",
        "    if R > 0:\n",
        "     print(f\"VOCÊ TEM {TR} MINUTOS RESTANTES\")\n",
        "    else:\n",
        "      print(\"MUITO OBRIGADO.\")\n",
        "except Exception as ERRO_EXCECAO:\n",
        "  print(f'ERRO DE EXCEÇÃO: {ERRO_EXCECAO}')"
      ],
      "metadata": {
        "id": "pxZ25fiS7a5Z"
      },
      "execution_count": null,
      "outputs": []
    },
    {
      "cell_type": "markdown",
      "source": [
        "# EXERCÍCIO NÚMERO 12:"
      ],
      "metadata": {
        "id": "MlQ39tytqqaa"
      }
    },
    {
      "cell_type": "code",
      "source": [
        "try:\n",
        "  M = float(input(\"Informe a massa (em kg): \"))\n",
        "  H = float(input(\"Informe a altura (em metros): \"))\n",
        "\n",
        "  IMC = M / (H ** 2)\n",
        "\n",
        "  if IMC < 18.5:\n",
        "      C = \"Magreza\"\n",
        "  elif 18.5 <= IMC < 25:\n",
        "      C = \"Saudável\"\n",
        "  elif 25 <= IMC < 30:\n",
        "      C = \"Sobrepeso\"\n",
        "  elif 30 <= IMC < 35:\n",
        "      C = \"Obesidade Grau I\"\n",
        "  elif 35 <= IMC < 40:\n",
        "      C = \"Obesidade Grau II (Severa)\"\n",
        "  else:\n",
        "      C = \"Obesidade Grau III (Mórbida)\"\n",
        "\n",
        "  print(f\"O IMC é {IMC:.2f} e a classificação é: {C}\")\n",
        "except Exception as ERRO_EXCECAO:\n",
        "  print(f'ERRO DE EXCEÇÃO: {ERRO_EXCECAO}')"
      ],
      "metadata": {
        "id": "AlBALr6bqqlC",
        "colab": {
          "base_uri": "https://localhost:8080/"
        },
        "outputId": "4a2bc904-66e9-4be9-9c45-af16c43795fe"
      },
      "execution_count": null,
      "outputs": [
        {
          "output_type": "stream",
          "name": "stdout",
          "text": [
            "Informe a massa (em kg): 70\n",
            "Informe a altura (em metros): 1.70\n",
            "O IMC é 24.22 e a classificação é: Saudável\n"
          ]
        }
      ]
    },
    {
      "cell_type": "markdown",
      "source": [
        "# EXERCÍCIO NÚMERO 13:"
      ],
      "metadata": {
        "id": "os0TfDnyqqyl"
      }
    },
    {
      "cell_type": "code",
      "source": [
        "try:\n",
        "  A = float(input(\"Informe o primeiro número: \"))\n",
        "  B = float(input(\"Informe o segundo número: \"))\n",
        "  C = float(input(\"Informe o terceiro número: \"))\n",
        "\n",
        "  M = (A + B + C) / 3\n",
        "  PHI = 11.52743\n",
        "\n",
        "  if M < (10 * PHI) or M > (200 * PHI):\n",
        "      CM = M ** 3\n",
        "      print(f\"O cubo da média é: {CM:.5f}\")\n",
        "  else:\n",
        "      print(f\"A média é: {M:.5f}\")\n",
        "except Exception as ERRO_EXCECAO:\n",
        "  print(f'ERRO DE EXCEÇÃO: {ERRO_EXCECAO}')"
      ],
      "metadata": {
        "id": "SD7g2A8hqq_l"
      },
      "execution_count": null,
      "outputs": []
    },
    {
      "cell_type": "markdown",
      "source": [
        "# EXERCÍCIO NÚMERO 14:"
      ],
      "metadata": {
        "id": "1ezzk8FuqrMH"
      }
    },
    {
      "cell_type": "code",
      "source": [
        "try:\n",
        "  AV1 = float(input(\"Informe a nota da AV1: \"))\n",
        "  AV2 = float(input(\"Informe a nota da AV2: \"))\n",
        "  TF = int(input(\"Informe o número de faltas: \"))\n",
        "\n",
        "  if AV1 < 0 or AV1 > 10 or AV2 < 0 or AV2 > 10:\n",
        "      print('Nota não existe!')\n",
        "  else:\n",
        "    MP = (AV1 + AV2) / 2\n",
        "    if TF > 10:\n",
        "      print(f\"Reprovado por Falta\")\n",
        "    elif MP < 3:\n",
        "      print(f'Nota: {MP:.1f} - Reprovado.')\n",
        "    elif MP >= 7:\n",
        "      print(f'Nota: {MP:.1f} - Aprovado')\n",
        "    else:\n",
        "      print('você está de recuperação')\n",
        "      PF = float(input(\"Informe a nota da PF: \"))\n",
        "      MF = (AV1 + AV2 + PF) / 3\n",
        "      if MF < 5:\n",
        "         print(f'Nota: {MF:.1f} - Reprovado.')\n",
        "      else:\n",
        "         print(f'Nota: {MF:.1f} - Aprovado.')\n",
        "except Exception as ERRO_EXCECAO:\n",
        "  print(f'ERRO DE EXCEÇÃO: {ERRO_EXCECAO}')"
      ],
      "metadata": {
        "id": "JXOEq7gZqrWi"
      },
      "execution_count": null,
      "outputs": []
    },
    {
      "cell_type": "markdown",
      "source": [
        "# EXERCÍCIO NÚMERO 15:"
      ],
      "metadata": {
        "id": "BfXgIvxVqriS"
      }
    },
    {
      "cell_type": "code",
      "source": [
        "try:\n",
        "  V1 = int(input(\"Informe o 1º valor: \"))\n",
        "  V2 = int(input(\"Informe o 2º valor: \"))\n",
        "  V3 = int(input(\"Informe o 3º valor: \"))\n",
        "  V4 = int(input(\"Informe o 4º valor: \"))\n",
        "  V5 = int(input(\"Informe o 5º valor: \"))\n",
        "\n",
        "  if V1 == V2 or V1 == V3 or V1 == V4 or V1 == V5 or \\\n",
        "    V2 == V3 or V2 == V4 or V2 == V5 or \\\n",
        "    V3 == V4 or V3 == V5 or V4 == V5:\n",
        "      print(\"Os valores não são distintos!\")\n",
        "  else:\n",
        "\n",
        "      SP = 0\n",
        "      SI = 0\n",
        "      CP = 0\n",
        "      CI = 0\n",
        "\n",
        "      if (V1 / 2) == int(V1 / 2):\n",
        "          SP += V1\n",
        "          CP += 1\n",
        "      else:\n",
        "          SI += V1\n",
        "          CI += 1\n",
        "\n",
        "      if (V2 / 2) == int(V2 / 2):\n",
        "          SP += V2\n",
        "          CP += 1\n",
        "      else:\n",
        "          SI += V2\n",
        "          CI += 1\n",
        "\n",
        "      if (V3 / 2) == int(V3 / 2):\n",
        "          SP += V3\n",
        "          CP += 1\n",
        "      else:\n",
        "          SI += V3\n",
        "          CI += 1\n",
        "\n",
        "      if (V4 / 2) == int(V4 / 2):\n",
        "          SP += V4\n",
        "          CP += 1\n",
        "      else:\n",
        "          SI += V4\n",
        "          CI += 1\n",
        "\n",
        "      if (V5 / 2) == int(V5 / 2):\n",
        "          SP += V5\n",
        "          CP += 1\n",
        "      else:\n",
        "          SI += V5\n",
        "          CI += 1\n",
        "\n",
        "      MP = SP / CP if CP else 0\n",
        "      MI = SI / CI if CI else 0\n",
        "\n",
        "      print(f\"Média dos números pares: {MP:.2f}\")\n",
        "      print(f\"Média dos números ímpares: {MI:.2f}\")\n",
        "except Exception as ERRO_EXCECAO:\n",
        "  print(f'ERRO DE EXCEÇÃO: {ERRO_EXCECAO}')\n",
        "\n",
        "#SP: Soma dos pares\n",
        "#SI: Soma dos ímpares\n",
        "#CP: Contagem dos pares\n",
        "#CI: Contagem dos ímpares\n",
        "#MP: Média dos pares\n",
        "#MI: Média dos ímpares"
      ],
      "metadata": {
        "id": "s_OX_Tpnqruw"
      },
      "execution_count": null,
      "outputs": []
    },
    {
      "cell_type": "markdown",
      "source": [
        "# EXERCÍCIO NÚMERO 16:"
      ],
      "metadata": {
        "id": "v82XL8Odqr80"
      }
    },
    {
      "cell_type": "code",
      "source": [
        "import math\n",
        "try:\n",
        "  V1 = float(input(\"Informe o 1º valor: \"))\n",
        "  V2 = float(input(\"Informe o 2º valor: \"))\n",
        "  V3 = float(input(\"Informe o 3º valor: \"))\n",
        "\n",
        "  if V1 == V2 or V1 == V3 or V2 == V3:\n",
        "      print(\"Os valores não são distintos!\")\n",
        "  else:\n",
        "      if V1 > V2 and V1 > V3:\n",
        "          M = V1\n",
        "          S = V2 if V2 > V3 else V3\n",
        "      elif V2 > V1 and V2 > V3:\n",
        "          M = V2\n",
        "          S = V1 if V1 > V3 else V3\n",
        "      else:\n",
        "          M = V3\n",
        "          S = V1 if V1 > V2 else V2\n",
        "\n",
        "      DMV = (M + S) / 2\n",
        "      print(f\"Média dos dois maiores valores: {DMV:.2f}\")\n",
        "\n",
        "except Exception as ERRO_EXCECAO:\n",
        "  print(f'ERRO DE EXCEÇÃO: {ERRO_EXCECAO}')"
      ],
      "metadata": {
        "id": "e8H1meofqsL5"
      },
      "execution_count": null,
      "outputs": []
    },
    {
      "cell_type": "markdown",
      "source": [
        "# EXERCÍCIO NÚMERO 17:"
      ],
      "metadata": {
        "id": "okpN_1KzqsWG"
      }
    },
    {
      "cell_type": "code",
      "source": [
        "try:\n",
        "  A = float(input(\"Informe o lado A: \"))\n",
        "  B = float(input(\"Informe o lado B: \"))\n",
        "  C = float(input(\"Informe o lado C: \"))\n",
        "\n",
        "  if A < B + C and B < A + C and C < A + B:\n",
        "      if A == B == C:\n",
        "          T = \"Equilátero\"\n",
        "      elif A == B or B == C or A == C:\n",
        "          T = \"Isósceles\"\n",
        "      else:\n",
        "          T = \"Escaleno\"\n",
        "      print(f\"É um triângulo {T}\")\n",
        "  else:\n",
        "      print(\"Não forma um triângulo\")\n",
        "except Exception as ERRO_EXCECAO:\n",
        "  print(f'ERRO DE EXCEÇÃO: {ERRO_EXCECAO}')\n"
      ],
      "metadata": {
        "id": "D5Vy9XtkqsiD"
      },
      "execution_count": null,
      "outputs": []
    }
  ]
}