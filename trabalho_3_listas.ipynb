{
  "cells": [
    {
      "cell_type": "markdown",
      "metadata": {
        "id": "view-in-github",
        "colab_type": "text"
      },
      "source": [
        "<a href=\"https://colab.research.google.com/github/MayraSuellen/PYTHON/blob/main/trabalho_3_listas.ipynb\" target=\"_parent\"><img src=\"https://colab.research.google.com/assets/colab-badge.svg\" alt=\"Open In Colab\"/></a>"
      ]
    },
    {
      "cell_type": "markdown",
      "metadata": {
        "id": "G90zxY79qIXe"
      },
      "source": [
        "\n",
        "<html>\n",
        "  <body>\n",
        "    <header></header>\n",
        "        <CENTER>\n",
        "          <img src=\"https://uvv.br/wp-content/themes/core/dist/images/Logo.png\" alt=\"UVV-LOGO\" style = width=\"100px\"; height=\"100px\">\n",
        "        </CENTER>\n",
        "        <CENTER><b>LABORATÓRIO DE PROGRAMAÇAO</b></CENTER>\n",
        "        <CENTER><b>ESTRUTURA DE DADOS - LISTA</b></CENTER>"
      ]
    },
    {
      "cell_type": "markdown",
      "metadata": {
        "id": "cTWjy-UMSZKR"
      },
      "source": [
        "NOME: MAYRA SUELLEN OLIVEIRA REIS"
      ]
    },
    {
      "cell_type": "markdown",
      "metadata": {
        "id": "VGKo5hTSCMcA"
      },
      "source": [
        "MEU LINK COLAB: [Link]()"
      ]
    },
    {
      "cell_type": "markdown",
      "metadata": {
        "id": "CWZ7nYLvZjR8"
      },
      "source": [
        "# Estudo 1:"
      ]
    },
    {
      "cell_type": "code",
      "execution_count": null,
      "metadata": {
        "id": "aphElrP0V9-T"
      },
      "outputs": [],
      "source": [
        "# CRIAR / RESETAR LISTAS\n",
        "funcionario = []\n",
        "empresa =  []"
      ]
    },
    {
      "cell_type": "code",
      "execution_count": null,
      "metadata": {
        "id": "WKR2OUzbiG3I"
      },
      "outputs": [],
      "source": [
        "def lernome():\n",
        "  while True:\n",
        "    try:\n",
        "      nome = input('INFORME O NOME DO FUNCIONARIO: ')\n",
        "      if len(nome) <= 2:\n",
        "         print('ERRO, TENTE NOVAMENTE')\n",
        "      else:\n",
        "        break\n",
        "    except Exception as ERRO:\n",
        "      print(f\"{ERRO}\")\n",
        "\n",
        "  return nome\n"
      ]
    },
    {
      "cell_type": "code",
      "execution_count": null,
      "metadata": {
        "id": "iUoC-UyM8QUg"
      },
      "outputs": [],
      "source": [
        "def lercargo():\n",
        "  while True:\n",
        "    try:\n",
        "      cargo = input('INFORME O CARGO DO FUNCIONARIO:')\n",
        "      if (len(cargo) <= 2):\n",
        "        print('ERRO, TENTE NOVAMENTE')\n",
        "      else:\n",
        "        break\n",
        "    except Exception as ERRO:\n",
        "      print(f\"{ERRO}\")\n",
        "\n",
        "  return cargo\n"
      ]
    },
    {
      "cell_type": "code",
      "execution_count": null,
      "metadata": {
        "id": "oPJuwi5LHnfi"
      },
      "outputs": [],
      "source": [
        "def lermatricula():\n",
        "  while True:\n",
        "    try:\n",
        "      matricula = int(input('INFORME A MATRICULA FUNCIONARIO:'))\n",
        "      if (matricula < 1000 or matricula > 9999):\n",
        "        print('ERRO, TENTE NOVAMENTE')\n",
        "      else:\n",
        "        break\n",
        "    except Exception as ERRO:\n",
        "      print(f\"{ERRO}\")\n",
        "\n",
        "  return matricula\n"
      ]
    },
    {
      "cell_type": "code",
      "execution_count": null,
      "metadata": {
        "id": "liU0c2h7HnXS"
      },
      "outputs": [],
      "source": [
        "def lerplanodesaude():\n",
        "  while True:\n",
        "    try:\n",
        "      print('O FUNCIONARIO POSSUI PLANO DE SAÚDE?')\n",
        "      print('DIGITE 0 (ZERO) SE O FUNCIONARIO NÃO POSSUIR PLANO')\n",
        "      print('DIGITE 1 (UM) SE O FUNCIONARIO POSSUIR PLANO')\n",
        "      plano = int(input())\n",
        "      if plano != 1 and plano != 0:\n",
        "        print('ERRO, TENTE NOVAMENTE')\n",
        "      else:\n",
        "        break\n",
        "    except Exception as ERRO:\n",
        "      print(f\"{ERRO}\")\n",
        "\n",
        "  return plano\n"
      ]
    },
    {
      "cell_type": "code",
      "execution_count": null,
      "metadata": {
        "id": "KFo3NtMiHnLj"
      },
      "outputs": [],
      "source": [
        "def lersalario():\n",
        "  while True:\n",
        "    try:\n",
        "      salario = int(input('INFORME O SALARIO DO FUNCIONARIO:'))\n",
        "      if (salario < 1500):\n",
        "        print('ERRO, TENTE NOVAMENTE')\n",
        "      else:\n",
        "        break\n",
        "    except Exception as ERRO:\n",
        "      print(f\"{ERRO}\")\n",
        "\n",
        "  return salario"
      ]
    },
    {
      "cell_type": "code",
      "execution_count": null,
      "metadata": {
        "id": "FjsmQ54hm-hw"
      },
      "outputs": [],
      "source": [
        "empresa = [['Yeonjun', 'Gerente', 2868, 1, 5000.0],\n",
        "['Soobin', 'Chefe do setor', 4014, 1, 4000.0],\n",
        "['Beomgyu', 'Analista de sistema', 1633, 1, 3000.0],\n",
        "['Huening Kai', 'Analista de sistema ', 1490, 1, 3000.0],\n",
        "['Taehyun', 'Analista de sistema', 4232, 1, 3000.0],\n",
        "['Felina', 'Assistente administrativo', 6410, 0, 1800.0],\n",
        "['Jorge', 'Estagiario', 1504, 0, 950.0]]"
      ]
    },
    {
      "cell_type": "code",
      "execution_count": null,
      "metadata": {
        "id": "WkhdHhafyGzU"
      },
      "outputs": [],
      "source": [
        "# MENU: PROGRAMA PRINCIPAL (MAIN)\n",
        "print('MENU')\n",
        "print('OPÇÃO 0: CADASTRAR FUNCIONARIO')\n",
        "print('OPÇÃO 1: Exibir um relatório gerencial com a taxa de adesão (em porcentagem) ao Plano de Saúde')\n",
        "print('OPÇÃO 2: Exibir um relatório gerencial com os nomes dos funcionários que possuem Plano de Saúde')\n",
        "print('OPÇÃO 3: Exibir um relatório gerencial com os cargos dos funcionários que estão acima da média salarial')\n",
        "print('OPÇÃO 4: Exibir um relatório administrativo com o Total da Folha de Pagamento: Bruto e Líquido desta empresa descontando R$ 212.54 dos funcionários que tem Plano de Saúde')\n",
        "print('APERTE QUALQUER TECLA PARA SAIR!!')\n",
        "while True:\n",
        "  try:\n",
        "    opcao = int(input('QUAL SUA OPÇÃO?'))\n",
        "\n",
        "    if opcao < 0 or opcao > 5:\n",
        "      print('MUITO OBRIGADO!!')\n",
        "      break\n",
        "    elif opcao == 0:\n",
        "      nome = lernome()\n",
        "      cargo = lercargo()\n",
        "      matricula = lermatricula()\n",
        "      planosaude = lerplanodesaude()\n",
        "      salario = lersalario()\n",
        "\n",
        "      funcionario = [nome, cargo, matricula, planosaude, salario]\n",
        "      empresa.append(funcionario)\n",
        "      print('INSERIDO COM SUCESSO')\n",
        "    elif opcao == 1:\n",
        "      print('RELATÓRIO 1')\n",
        "      listaplano = [valor[3] for valor in (empresa)]\n",
        "      print(f'TAXA DE ADESÃO EM {sum(listaplano)/len(listaplano)* 100: .1f}% ')\n",
        "    elif opcao == 2:\n",
        "      print('RELATÓRIO 2')\n",
        "      templano = [valor for valor in (empresa) if valor[3]]\n",
        "      for indice, valor in enumerate(templano):\n",
        "        print(f'{valor[0]} tem plano')\n",
        "    elif opcao == 3:\n",
        "      print('RELATÓRIO 3')\n",
        "      mediasalarial = sum([(valor[4]) for valor in empresa]) /len(valor[4])\n",
        "      for valor in empresa:\n",
        "        if valor[4]> mediasalarial:\n",
        "          print(f'{valor[0]} - cargo: {valor[1]}')\n",
        "    elif opcao == 4:\n",
        "      print('RELATÓRIO 4')\n",
        "      total_folha_bruto = sum([valor[4] for valor in empresa])\n",
        "      total_folha_liquido = sum([valor[4] - 212.54 if valor[3] == 1 else valor[4] for valor in empresa])\n",
        "      print(f'TOTAL DA FOLHA DE PAGAMENTO BRUTA: R$ {total_folha_bruto:.2f}')\n",
        "      print(f'TOTAL DA FOLHA DE PAGAMENTO LÍQUIDA: R$ {total_folha_liquido:.2f}')\n",
        "  except Exception as ERRO:\n",
        "   print(f'FIM DO PROGRAMA: {ERRO}')\n",
        "   break\n"
      ]
    },
    {
      "cell_type": "markdown",
      "metadata": {
        "id": "stTvYgS0Z1_e"
      },
      "source": [
        "# Estudo 2:"
      ]
    },
    {
      "cell_type": "code",
      "execution_count": null,
      "metadata": {
        "id": "XRqNX6DiCYOh"
      },
      "outputs": [],
      "source": [
        "atetlas = []\n",
        "triatlon = []"
      ]
    },
    {
      "cell_type": "code",
      "execution_count": null,
      "metadata": {
        "id": "I0jBku9KZ0sk"
      },
      "outputs": [],
      "source": [
        "def lernome():\n",
        "  while True:\n",
        "    try:\n",
        "      nome = input('NOME DO ATLETA: ')\n",
        "      if (len(nome) < 2):\n",
        "        print('erro, n valido')\n",
        "      else:\n",
        "        break\n",
        "    except Exception as ERRO:\n",
        "     print('{ERRO}')\n",
        "     break\n",
        "  return nome"
      ]
    },
    {
      "cell_type": "code",
      "execution_count": null,
      "metadata": {
        "id": "yYKGCbyZ2VmS"
      },
      "outputs": [],
      "source": [
        "def lerpatrocinador():\n",
        "  while True:\n",
        "    try:\n",
        "      patrocinador = input('NOME DO PATROCINADOR: ')\n",
        "      if (len(patrocinador) < 2):\n",
        "        print('erro, n valido0')\n",
        "      else:\n",
        "        break\n",
        "    except Exception as ERRO:\n",
        "     print('{ERRO}')\n",
        "     break\n",
        "  return patrocinador"
      ]
    },
    {
      "cell_type": "code",
      "execution_count": null,
      "metadata": {
        "id": "VmEBHqFp2Vja"
      },
      "outputs": [],
      "source": [
        "def lerdatadenascimento():\n",
        "  while True:\n",
        "    try:\n",
        "      d = int(input('QUAL O DIA DO NASCIMENTO?: '))\n",
        "      m = int(input('QUAL O MES DO NASCIMENTO?: '))\n",
        "      a = int(input('QUAL O ANO DO NASCIMENTO?: '))\n",
        "      if m <=0 or m > 12:\n",
        "        print('erro, n valido1')\n",
        "      elif d == 31 and m in [4, 6, 9, 11]:\n",
        "        print('erro, n valido2')\n",
        "      elif d<= 0 or d >= 31:\n",
        "        print('erro, n valido3')\n",
        "      elif a <1920 or a > 2026:\n",
        "        print('erro, n valido4')\n",
        "      else:\n",
        "        break\n",
        "    except Exception as ERRO:\n",
        "     print('{ERRO}')\n",
        "     break\n",
        "  return d, m, a"
      ]
    },
    {
      "cell_type": "code",
      "execution_count": null,
      "metadata": {
        "id": "WEfaHRl42Vgr"
      },
      "outputs": [],
      "source": [
        "def lerdatempo():\n",
        "  while True:\n",
        "    try:\n",
        "      tn = int(input('TEMPO NATAÇÃO EM SEGUNDOS: '))\n",
        "      tc = int(input('TEMPO CORRIDA EM SEGUNDOS: '))\n",
        "      tci = int(input('TEMPO CICLISMO EM SEGUNDOS: '))\n",
        "      if tn <= 0 or tc <= 0 or tci <= 0:\n",
        "        print('erro, n valido5')\n",
        "      else:\n",
        "        break\n",
        "    except Exception as ERRO:\n",
        "     print('{ERRO}')\n",
        "     break\n",
        "  return tn, tc, tci"
      ]
    },
    {
      "cell_type": "code",
      "execution_count": null,
      "metadata": {
        "id": "gIilQrPR2Vd0"
      },
      "outputs": [],
      "source": [
        "print('MENU')\n",
        "print('OPÇÃO 0: CADASTRAR ATLETA')\n",
        "print('OPÇÃO 1: Exibir um relatório com os nomes dos triatletas que fizeram os melhores tempos nas etapas de natação, corrida e ciclismo.')\n",
        "print('OPÇÃO 2: Exibir um relatório com o nome e patrocinador do melhor atleta entre todos.')\n",
        "print('OPÇÃO 3: ')\n",
        "\n",
        "while True:\n",
        "  try:\n",
        "    opcao = int(input(''))\n",
        "    if opcao < 0 or opcao > 3:\n",
        "      print('FIM DO PROGRAMA, OBRIGADO!!')\n",
        "      break\n",
        "    elif opcao == 0:\n",
        "      print('CADASTRAR ATETLA')\n",
        "      nome = lernome()\n",
        "      patrocinador = lerpatrocinador()\n",
        "      d, m, a = lerdatadenascimento()\n",
        "      tn, tc, tci = lerdatempo()\n",
        "\n",
        "      atetla = [nome, patrocinador, d, m, a, tn, tc, tci]\n",
        "      atetlas.append(atetla)\n",
        "\n",
        "    elif opcao == 1:\n",
        "      print('RELATORIO 1')\n",
        "      if not atetlas:\n",
        "          print(\"Nenhum atleta cadastrado para exibir o relatório 1.\")\n",
        "      else:\n",
        "          for atleta in atetlas:\n",
        "            thebest = atleta[5] + atleta[6] + atleta[7]\n",
        "            triatlon.append((thebest, atleta))\n",
        "\n",
        "            thebesbest = sorted(triatlon)\n",
        "\n",
        "          for indice, (thebest, atleta) in enumerate(thebesbest):\n",
        "             print(f'{atleta[0]} - {atetla[1]}')\n",
        "\n",
        "    elif opcao == 2:\n",
        "      print('RELATORIO 2')\n",
        "      if not atetlas:\n",
        "          print(\"Nenhum atleta cadastrado para exibir o relatório 1.\")\n",
        "      else:\n",
        "          for atleta in atetlas:\n",
        "            thebest = atleta[5] + atleta[6] + atleta[7]\n",
        "            triatlon.append((thebest, atleta))\n",
        "\n",
        "            thebesbest = sorted(triatlon)\n",
        "\n",
        "          for indice, (thebest, atleta) in enumerate(thebesbest):\n",
        "             print(f'{indice + 1}° {atleta[0]} - {atleta[1]}')\n",
        "\n",
        "    elif opcao == 0:\n",
        "      print('CADASTRAR ATETLA')\n",
        "\n",
        "    atetla = [nome, patrocinador, d,m,a, tn,tc,tci]\n",
        "    atetlas.append(atetla)\n",
        "\n",
        "\n",
        "  except Exception as ERRO:\n",
        "   print(f'{ERRO}')\n",
        "   break"
      ]
    },
    {
      "cell_type": "code",
      "execution_count": null,
      "metadata": {
        "id": "VeDMkU_12Vah"
      },
      "outputs": [],
      "source": [
        "atetlas = [\n",
        "    [\"Alisson Becker\", \"Nike\", 2, 10, 1992, 28, 65, 30],\n",
        "    [\"Vinícius Júnior\", \"Red Bull\", 12, 7, 2000, 27, 63, 32],\n",
        "    [\"Rodrygo Goes\", \"Under Armour\", 9, 1, 2001, 29, 61, 31],\n",
        "    [\"Lucas Paquetá\", \"New Balance\", 27, 8, 1997, 31, 66, 30],\n",
        "    [\"Richarlison\", \"Reebok\", 10, 5, 1997, 33, 68, 27],\n",
        "    [\"Neymar Jr\", \"Puma\", 5, 2, 1992, 29, 62, 33],\n",
        "    [\"Ronaldinho Gaúcho\", \"Nike\", 21, 3, 1980, 25, 59, 35],\n",
        "    [\"Ronaldo Fenômeno\", \"Nike\", 22, 9, 1976, 26, 57, 38],\n",
        "    [\"Pelé\", \"Umbro\", 23, 10, 1940, 24, 55, 34],\n",
        "    [\"Kaká\", \"Adidas\", 22, 4, 1982, 28, 60, 32],\n",
        "    [\"Rivaldo\", \"Reebok\", 19, 4, 1972, 27, 58, 33],\n",
        "    [\"Romário\", \"Puma\", 29, 1, 1966, 25, 56, 36]\n",
        "]\n",
        "\n"
      ]
    },
    {
      "cell_type": "code",
      "execution_count": null,
      "metadata": {
        "id": "OIKyWdN52VTp"
      },
      "outputs": [],
      "source": [
        "atetlas"
      ]
    },
    {
      "cell_type": "markdown",
      "source": [
        "# Estudo 3:"
      ],
      "metadata": {
        "id": "0AZcLfLblT4u"
      }
    },
    {
      "cell_type": "code",
      "execution_count": null,
      "metadata": {
        "id": "4jB0-KBm2UgK"
      },
      "outputs": [],
      "source": [
        "def lernome():\n",
        "  while True:\n",
        "    try:\n",
        "      nome = (input('NOME: '))\n",
        "      if(len(nome) <= 2):\n",
        "        print('ERRO: ESCOLHA DE NOVO')\n",
        "      else:\n",
        "        break\n",
        "    except:\n",
        "      print('ERRO: ESCOLHA DE NOVO')\n",
        "  return nome"
      ]
    },
    {
      "cell_type": "code",
      "execution_count": null,
      "metadata": {
        "id": "9eDVCCWELDGH"
      },
      "outputs": [],
      "source": [
        "def validaremail():\n",
        "  while True:\n",
        "    try:\n",
        "      email = input('EMAIL: ')\n",
        "      if \"@\" in email and \".\" in email and \"com\" in email:\n",
        "        break\n",
        "      else:\n",
        "        print('ERRO: ESCOLHA DE NOVO')\n",
        "    except:\n",
        "        print('ERRO: ESCOLHA DE NOVO')\n",
        "  return email"
      ]
    },
    {
      "cell_type": "code",
      "source": [
        "def validawpp():\n",
        "  while True:\n",
        "    try:\n",
        "      WhatsApp = (input('WHATSAPP: '))\n",
        "      if(len(WhatsApp) <= 10):\n",
        "        print('ERRO: ESCOLHA DE NOVO')\n",
        "      else:\n",
        "        break\n",
        "    except:\n",
        "      print('ERRO: ESCOLHA DE NOVO')\n",
        "  return WhatsApp\n"
      ],
      "metadata": {
        "id": "aEZ4HMp_-Wj7"
      },
      "execution_count": null,
      "outputs": []
    },
    {
      "cell_type": "code",
      "source": [
        "contatos = []"
      ],
      "metadata": {
        "id": "bzHLbpX--Wgz"
      },
      "execution_count": null,
      "outputs": []
    },
    {
      "cell_type": "code",
      "source": [
        "contatos = [['Mayra', 'm@gmail.com', '27998908455'],\n",
        "['Jungkook', 'jk@gmail.com', '11995872144'],\n",
        "['Taehyung (V)', 'v@gmail.com', '11997824456'],\n",
        "['Jimim', 'jm@gmail.com', '11996315874'],\n",
        "['Namjoon', 'rm@gmail.com', '11998523756'],\n",
        "['hoseok', 'hope@gmail.com', '21998754215'],\n",
        "['Yoongi', 'sg@gmaiç.com', '27997830240'],\n",
        "['jin', 'j@gmail.com', '11998524472']]"
      ],
      "metadata": {
        "id": "ZPiaCTzb-WeC"
      },
      "execution_count": null,
      "outputs": []
    },
    {
      "cell_type": "code",
      "execution_count": null,
      "metadata": {
        "id": "JmFeIaKS7fAA"
      },
      "outputs": [],
      "source": [
        "print('MENU')\n",
        "print('OPÇÃO 0: ADICIONAR CONTATO')\n",
        "print('OPÇÃO 1: PEQUISAR CONTATO')\n",
        "print('OPÇÃO 2: ATUALIZAR NÚMERO DE WHATSAPP (PESQUISANDO POR EMAIL)')\n",
        "print('OPÇÃO 3: DELETAR CONTATO (PESQUISANDO POR NOME)')\n",
        "print('APERTE QUALQUER TECLA PARA SAIR!!')\n",
        "\n",
        "while True:\n",
        "    try:\n",
        "        opcao = int(input('SUA OPÇÃO: '))\n",
        "        if opcao < 0 or opcao > 5:\n",
        "            print('MUITO OBRIGADO, FIM DO PROGRAMA')\n",
        "            break\n",
        "        elif opcao == 0:\n",
        "            nome = lernome()\n",
        "            email = validaremail()\n",
        "            whatsApp = validawpp()\n",
        "            dados = [nome, email, whatsApp]\n",
        "            contatos.append(dados)\n",
        "            print('CONTATO INSERIDO COM SUCESSO!!')\n",
        "        elif opcao == 1:\n",
        "            print('RELATÓRIO 1')\n",
        "            nomec = input('NOME: ')\n",
        "            nomes = [contato[0] for contato in contatos]\n",
        "            if nomec in nomes:\n",
        "                i = nomes.index(nomec)\n",
        "                print(f'NOME: {contatos[i][0]} EMAIL: {contatos[i][1]} WHATSAPP: {contatos[i][2]}')\n",
        "            else:\n",
        "                print('CONTATO NÃO ENCONTRADO.')\n",
        "        elif opcao == 2:\n",
        "            print('RELATÓRIO 2')\n",
        "            emailc = input('EMAIL: ')\n",
        "            emails = [contato[1] for contato in contatos]\n",
        "            if emailc in emails:\n",
        "                i = emails.index(emailc)\n",
        "                print(f'NOME: {contatos[i][0]} EMAIL: {contatos[i][1]} WHATSAPP: {contatos[i][2]}')\n",
        "                opcao2 = input('DESEJA ATUALIZAR WHATSAPP? 1 = sim, 2 = não: ')\n",
        "                if opcao2 not in ['1', '2']:\n",
        "                    print('TENTE NOVAMENTE!2')\n",
        "                elif opcao2 == '1':\n",
        "                    contatos.pop(i)\n",
        "                    newcontato = validawpp()\n",
        "                    print('CONTATO ATUALZADO COM SUCESSO!!')\n",
        "                else:\n",
        "                    print('OK!')\n",
        "            else:\n",
        "                print('CONTATO NÃO ENCONTRADO.')\n",
        "        elif opcao == 3:\n",
        "            print('RELATÓRIO 3')\n",
        "            nomer = input('NOME: ')\n",
        "            nomes = [contato[0] for contato in contatos]\n",
        "            if nomer in nomes:\n",
        "                i = nomes.index(nomer)\n",
        "                contatos.pop(i)\n",
        "                print('CONTATO EXCLUÍDO COM SUCESSO!')\n",
        "            else:\n",
        "                print('CONTATO NÃO ENCONTRADO.')\n",
        "    except Exception as ERRO:\n",
        "        print(f'FIM DO PROGRAMA: {ERRO}')\n",
        "        break\n",
        "\n",
        "\n",
        "\n"
      ]
    },
    {
      "cell_type": "markdown",
      "source": [
        "# Estudo 4:"
      ],
      "metadata": {
        "id": "QGqmAfqkmL3r"
      }
    },
    {
      "cell_type": "code",
      "source": [
        "dados = []\n",
        "contas = []"
      ],
      "metadata": {
        "id": "UCKGRbiA8ECZ"
      },
      "execution_count": null,
      "outputs": []
    },
    {
      "cell_type": "code",
      "source": [
        "def lernome():\n",
        "  while True:\n",
        "    try:\n",
        "      nome = input('NOME:')\n",
        "      if (len(nome)) <= 2:\n",
        "          print('gcghh')\n",
        "      else:\n",
        "        break\n",
        "    except Exception as ERRO:\n",
        "      print(f'{ERRO}')\n",
        "      break\n",
        "  return nome\n"
      ],
      "metadata": {
        "id": "tzR2bmFN8D_g"
      },
      "execution_count": null,
      "outputs": []
    },
    {
      "cell_type": "code",
      "source": [
        "def lerconta():\n",
        "  while True:\n",
        "    try:\n",
        "      conta = input('CONTA (até 12 dígitos): ')\n",
        "      if len(conta) <= 12:\n",
        "        return conta\n",
        "      else:\n",
        "        print('Conta deve ter até 12 dígitos.')\n",
        "    except Exception as erro:\n",
        "        print(f'Erro: {erro}')"
      ],
      "metadata": {
        "id": "Vzzaat1S8D8Z"
      },
      "execution_count": null,
      "outputs": []
    },
    {
      "cell_type": "code",
      "source": [
        "def lersaldo():\n",
        "  while True:\n",
        "    try:\n",
        "      saldo = float(input('SALDO INICIAL: '))\n",
        "      if saldo < 0:\n",
        "        print('Saldo não pode ser negativo.')\n",
        "      else:\n",
        "        return saldo\n",
        "    except Exception as erro:\n",
        "      print(f'Erro: {erro}')"
      ],
      "metadata": {
        "id": "iJE_WMyo8D5B"
      },
      "execution_count": null,
      "outputs": []
    },
    {
      "cell_type": "code",
      "source": [
        "def lersaidas():\n",
        "  saidas = []\n",
        "  for i in range(1, 13):\n",
        "    while True:\n",
        "      try:\n",
        "        valor = float(input(f'SAÍDA do mês {i}: '))\n",
        "        saidas.append(valor)\n",
        "        break\n",
        "      except Exception as erro:\n",
        "       print(f'ERRO: {erro}. Digite um número válido.')\n",
        "  return saidas"
      ],
      "metadata": {
        "id": "XbRF_Vd0hACp"
      },
      "execution_count": null,
      "outputs": []
    },
    {
      "cell_type": "code",
      "source": [
        "print('MENU')\n",
        "print('opção 0: cadastrar')\n",
        "print('opção 1: Qual o nome e conta de correntista que obteve a maior movimentação anual de extrato.')\n",
        "print('opção 2: De um correntista escolhido pelo usuário pelo seu número da conta, exibir na tela um Relatóriocoma sua Movimentação Financeira Total dividida a cada Trimestre.')\n",
        "print('opção 3: Exibir um Relatório Financeiro com a Movimentação Anual acumulada de todos os correntistas.')\n",
        "print('opção 4: Exibir na tela o Lucro para os acionistas sabendo que é 7% da Movimentação do item d).')\n",
        "print('aperte qualquer tecla para sair!!')\n",
        "\n",
        "while True:\n",
        "  try:\n",
        "    opcao = int(input('sua opção:'))\n",
        "    if opcao <0 or opcao > 4:\n",
        "      print('MUITO OBRIGADO!! DIM DO PROGRAMA')\n",
        "      break\n",
        "    elif opcao == 0:\n",
        "        print('CADASTRO')\n",
        "        nome = lernome()\n",
        "        conta = lerconta()\n",
        "        saldo = lersaldo()\n",
        "        saidas = lersaidas()\n",
        "        contas.append([nome, conta, saldo, saidas])\n",
        "        print('Cadastro realizado com sucesso!')\n",
        "\n",
        "    elif opcao == 1:\n",
        "        if not contas:\n",
        "            print('Nenhum correntista cadastrado.')\n",
        "            continue\n",
        "        maior_total = -1\n",
        "        correntista_maior = None\n",
        "        for c in contas:\n",
        "            total = sum(c[3])\n",
        "            if total > maior_total:\n",
        "                maior_total = total\n",
        "                correntista_maior = c\n",
        "        print(f'Maior movimentação: {correntista_maior[0]} (Conta: {correntista_maior[1]}) - Total: {maior_total:.2f}')\n",
        "\n",
        "    elif opcao == 2:\n",
        "        conta_busca = input('Digite o número da conta: ')\n",
        "        encontrado = False\n",
        "        for correntista in contas:\n",
        "            if correntista[1] == conta_busca:\n",
        "                print(f'Relatório Trimestral de {correntista[0]}:')\n",
        "                for i in range(4):\n",
        "                    trimestre = sum(correntista[3][i*3:(i+1)*3])\n",
        "                    print(f'Trimestre {i+1}: {trimestre:.2f}')\n",
        "                encontrado = True\n",
        "                break\n",
        "        if not encontrado:\n",
        "            print('Conta não encontrada.')\n",
        "\n",
        "    elif opcao == 3:\n",
        "        if not contas:\n",
        "            print('Nenhum dado cadastrado.')\n",
        "        else:\n",
        "            print('\\nRelatório Anual dos Correntistas:')\n",
        "            for c in contas:\n",
        "                total = sum(c[3])\n",
        "                print(f'{c[0]} (Conta: {c[1]}) - Total movimentado: {total:.2f}')\n",
        "\n",
        "    elif opcao == 4:\n",
        "        total_geral = 0\n",
        "        for c in contas:\n",
        "            total_geral += sum(c[3])\n",
        "        lucro = total_geral * 0.07\n",
        "        print(f'Lucro dos acionistas (7%): {lucro:.2f}')\n",
        "\n",
        "  except Exception as ERRO:\n",
        "    print(f'{ERRO}')\n",
        "    break"
      ],
      "metadata": {
        "id": "xPHCv2QX8DxC"
      },
      "execution_count": null,
      "outputs": []
    }
  ],
  "metadata": {
    "colab": {
      "provenance": [],
      "include_colab_link": true
    },
    "kernelspec": {
      "display_name": "Python 3",
      "name": "python3"
    }
  },
  "nbformat": 4,
  "nbformat_minor": 0
}